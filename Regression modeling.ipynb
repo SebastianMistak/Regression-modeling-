{
 "cells": [
  {
   "cell_type": "markdown",
   "id": "37c7fb82-c061-4059-9083-c612f4f93083",
   "metadata": {},
   "source": [
    "### Car prices in Poland - Regression modeling  "
   ]
  },
  {
   "cell_type": "code",
   "execution_count": 1,
   "id": "7b256fbb-8b14-4cf4-8890-b8f9406683f2",
   "metadata": {},
   "outputs": [],
   "source": [
    "## Import all libraries \n",
    "\n",
    "import numpy as np \n",
    "import pandas as pd \n",
    "import matplotlib.pyplot as plt\n",
    "from scipy.stats import uniform, randint\n",
    "\n",
    "from sklearn.model_selection import train_test_split, GridSearchCV, RandomizedSearchCV\n",
    "from sklearn.preprocessing import StandardScaler, PolynomialFeatures\n",
    "from sklearn.pipeline import Pipeline \n",
    "from sklearn.metrics import r2_score\n",
    "\n",
    "from sklearn.linear_model import LinearRegression, Ridge, Lasso, BayesianRidge\n",
    "from sklearn.tree import DecisionTreeRegressor, plot_tree\n",
    "from sklearn.ensemble import AdaBoostRegressor\n",
    "from xgboost.sklearn import XGBRegressor\n",
    "from sklearn.neural_network import MLPRegressor\n",
    "import lightgbm as ltb\n",
    "\n",
    "import warnings\n",
    "warnings.filterwarnings(\"ignore\")"
   ]
  },
  {
   "cell_type": "code",
   "execution_count": 2,
   "id": "4e5d0d43-e3dc-4e41-b09d-243f6151c2b4",
   "metadata": {},
   "outputs": [
    {
     "data": {
      "text/html": [
       "<div>\n",
       "<style scoped>\n",
       "    .dataframe tbody tr th:only-of-type {\n",
       "        vertical-align: middle;\n",
       "    }\n",
       "\n",
       "    .dataframe tbody tr th {\n",
       "        vertical-align: top;\n",
       "    }\n",
       "\n",
       "    .dataframe thead th {\n",
       "        text-align: right;\n",
       "    }\n",
       "</style>\n",
       "<table border=\"1\" class=\"dataframe\">\n",
       "  <thead>\n",
       "    <tr style=\"text-align: right;\">\n",
       "      <th></th>\n",
       "      <th>mark</th>\n",
       "      <th>model</th>\n",
       "      <th>year</th>\n",
       "      <th>mileage</th>\n",
       "      <th>vol_engine</th>\n",
       "      <th>fuel</th>\n",
       "      <th>city</th>\n",
       "      <th>province</th>\n",
       "      <th>price</th>\n",
       "    </tr>\n",
       "  </thead>\n",
       "  <tbody>\n",
       "    <tr>\n",
       "      <th>0</th>\n",
       "      <td>opel</td>\n",
       "      <td>combo</td>\n",
       "      <td>2015</td>\n",
       "      <td>139568</td>\n",
       "      <td>1248</td>\n",
       "      <td>Diesel</td>\n",
       "      <td>Janki</td>\n",
       "      <td>Mazowieckie</td>\n",
       "      <td>35900</td>\n",
       "    </tr>\n",
       "    <tr>\n",
       "      <th>1</th>\n",
       "      <td>opel</td>\n",
       "      <td>combo</td>\n",
       "      <td>2018</td>\n",
       "      <td>31991</td>\n",
       "      <td>1499</td>\n",
       "      <td>Diesel</td>\n",
       "      <td>Katowice</td>\n",
       "      <td>Śląskie</td>\n",
       "      <td>78501</td>\n",
       "    </tr>\n",
       "    <tr>\n",
       "      <th>2</th>\n",
       "      <td>opel</td>\n",
       "      <td>combo</td>\n",
       "      <td>2015</td>\n",
       "      <td>278437</td>\n",
       "      <td>1598</td>\n",
       "      <td>Diesel</td>\n",
       "      <td>Brzeg</td>\n",
       "      <td>Opolskie</td>\n",
       "      <td>27000</td>\n",
       "    </tr>\n",
       "    <tr>\n",
       "      <th>3</th>\n",
       "      <td>opel</td>\n",
       "      <td>combo</td>\n",
       "      <td>2016</td>\n",
       "      <td>47600</td>\n",
       "      <td>1248</td>\n",
       "      <td>Diesel</td>\n",
       "      <td>Korfantów</td>\n",
       "      <td>Opolskie</td>\n",
       "      <td>30800</td>\n",
       "    </tr>\n",
       "    <tr>\n",
       "      <th>4</th>\n",
       "      <td>opel</td>\n",
       "      <td>combo</td>\n",
       "      <td>2014</td>\n",
       "      <td>103000</td>\n",
       "      <td>1400</td>\n",
       "      <td>CNG</td>\n",
       "      <td>Tarnowskie Góry</td>\n",
       "      <td>Śląskie</td>\n",
       "      <td>35900</td>\n",
       "    </tr>\n",
       "  </tbody>\n",
       "</table>\n",
       "</div>"
      ],
      "text/plain": [
       "   mark  model  year  mileage  vol_engine    fuel             city  \\\n",
       "0  opel  combo  2015   139568        1248  Diesel            Janki   \n",
       "1  opel  combo  2018    31991        1499  Diesel         Katowice   \n",
       "2  opel  combo  2015   278437        1598  Diesel            Brzeg   \n",
       "3  opel  combo  2016    47600        1248  Diesel        Korfantów   \n",
       "4  opel  combo  2014   103000        1400     CNG  Tarnowskie Góry   \n",
       "\n",
       "      province  price  \n",
       "0  Mazowieckie  35900  \n",
       "1      Śląskie  78501  \n",
       "2     Opolskie  27000  \n",
       "3     Opolskie  30800  \n",
       "4      Śląskie  35900  "
      ]
     },
     "execution_count": 2,
     "metadata": {},
     "output_type": "execute_result"
    }
   ],
   "source": [
    "data = pd.read_csv('Car_Prices_Poland_Kaggle_regression_project.csv', index_col=0)\n",
    "data.head()"
   ]
  },
  {
   "cell_type": "code",
   "execution_count": 3,
   "id": "d50eb095-b5c3-4fab-966a-36d71c825aca",
   "metadata": {},
   "outputs": [
    {
     "data": {
      "text/plain": [
       "(116633, 9)"
      ]
     },
     "execution_count": 3,
     "metadata": {},
     "output_type": "execute_result"
    }
   ],
   "source": [
    "data.shape"
   ]
  },
  {
   "cell_type": "code",
   "execution_count": 4,
   "id": "3981d331-bb68-46f1-8556-e7b92f06ed6d",
   "metadata": {},
   "outputs": [
    {
     "name": "stdout",
     "output_type": "stream",
     "text": [
      "<class 'pandas.core.frame.DataFrame'>\n",
      "Int64Index: 116633 entries, 0 to 117926\n",
      "Data columns (total 9 columns):\n",
      " #   Column      Non-Null Count   Dtype \n",
      "---  ------      --------------   ----- \n",
      " 0   mark        116633 non-null  object\n",
      " 1   model       116633 non-null  object\n",
      " 2   year        116633 non-null  int64 \n",
      " 3   mileage     116633 non-null  int64 \n",
      " 4   vol_engine  116633 non-null  int64 \n",
      " 5   fuel        116633 non-null  object\n",
      " 6   city        116633 non-null  object\n",
      " 7   province    116633 non-null  object\n",
      " 8   price       116633 non-null  int64 \n",
      "dtypes: int64(4), object(5)\n",
      "memory usage: 8.9+ MB\n"
     ]
    }
   ],
   "source": [
    "data.info()"
   ]
  },
  {
   "cell_type": "code",
   "execution_count": 5,
   "id": "ef8bb804-d36d-4a7b-9746-bf68dcd2e8ff",
   "metadata": {},
   "outputs": [
    {
     "data": {
      "text/html": [
       "<div>\n",
       "<style scoped>\n",
       "    .dataframe tbody tr th:only-of-type {\n",
       "        vertical-align: middle;\n",
       "    }\n",
       "\n",
       "    .dataframe tbody tr th {\n",
       "        vertical-align: top;\n",
       "    }\n",
       "\n",
       "    .dataframe thead th {\n",
       "        text-align: right;\n",
       "    }\n",
       "</style>\n",
       "<table border=\"1\" class=\"dataframe\">\n",
       "  <thead>\n",
       "    <tr style=\"text-align: right;\">\n",
       "      <th></th>\n",
       "      <th>year</th>\n",
       "      <th>mileage</th>\n",
       "      <th>vol_engine</th>\n",
       "      <th>price</th>\n",
       "    </tr>\n",
       "  </thead>\n",
       "  <tbody>\n",
       "    <tr>\n",
       "      <th>count</th>\n",
       "      <td>116633.000000</td>\n",
       "      <td>116633.000000</td>\n",
       "      <td>116633.000000</td>\n",
       "      <td>1.166330e+05</td>\n",
       "    </tr>\n",
       "    <tr>\n",
       "      <th>mean</th>\n",
       "      <td>2012.845121</td>\n",
       "      <td>142341.548215</td>\n",
       "      <td>1831.457486</td>\n",
       "      <td>6.885178e+04</td>\n",
       "    </tr>\n",
       "    <tr>\n",
       "      <th>std</th>\n",
       "      <td>5.663457</td>\n",
       "      <td>91230.543952</td>\n",
       "      <td>619.109475</td>\n",
       "      <td>8.325095e+04</td>\n",
       "    </tr>\n",
       "    <tr>\n",
       "      <th>min</th>\n",
       "      <td>1945.000000</td>\n",
       "      <td>1.000000</td>\n",
       "      <td>1.000000</td>\n",
       "      <td>5.000000e+02</td>\n",
       "    </tr>\n",
       "    <tr>\n",
       "      <th>25%</th>\n",
       "      <td>2009.000000</td>\n",
       "      <td>70000.000000</td>\n",
       "      <td>1482.000000</td>\n",
       "      <td>2.090000e+04</td>\n",
       "    </tr>\n",
       "    <tr>\n",
       "      <th>50%</th>\n",
       "      <td>2013.000000</td>\n",
       "      <td>148000.000000</td>\n",
       "      <td>1796.000000</td>\n",
       "      <td>4.100000e+04</td>\n",
       "    </tr>\n",
       "    <tr>\n",
       "      <th>75%</th>\n",
       "      <td>2017.000000</td>\n",
       "      <td>204000.000000</td>\n",
       "      <td>1995.000000</td>\n",
       "      <td>8.150000e+04</td>\n",
       "    </tr>\n",
       "    <tr>\n",
       "      <th>max</th>\n",
       "      <td>2022.000000</td>\n",
       "      <td>1000000.000000</td>\n",
       "      <td>7600.000000</td>\n",
       "      <td>2.399900e+06</td>\n",
       "    </tr>\n",
       "  </tbody>\n",
       "</table>\n",
       "</div>"
      ],
      "text/plain": [
       "                year         mileage     vol_engine         price\n",
       "count  116633.000000   116633.000000  116633.000000  1.166330e+05\n",
       "mean     2012.845121   142341.548215    1831.457486  6.885178e+04\n",
       "std         5.663457    91230.543952     619.109475  8.325095e+04\n",
       "min      1945.000000        1.000000       1.000000  5.000000e+02\n",
       "25%      2009.000000    70000.000000    1482.000000  2.090000e+04\n",
       "50%      2013.000000   148000.000000    1796.000000  4.100000e+04\n",
       "75%      2017.000000   204000.000000    1995.000000  8.150000e+04\n",
       "max      2022.000000  1000000.000000    7600.000000  2.399900e+06"
      ]
     },
     "execution_count": 5,
     "metadata": {},
     "output_type": "execute_result"
    }
   ],
   "source": [
    "data.describe()"
   ]
  },
  {
   "cell_type": "code",
   "execution_count": 6,
   "id": "70129ae0-323a-4d61-b2cd-f81c06ea2fe1",
   "metadata": {},
   "outputs": [],
   "source": [
    "## Creating a comparison table to save the model results\n",
    "\n",
    "comparasion_table = pd.DataFrame(columns=['Model name', 'R2 score']) "
   ]
  },
  {
   "cell_type": "markdown",
   "id": "65d4dde0-7543-4f1b-a032-b23ff3c51736",
   "metadata": {
    "tags": []
   },
   "source": [
    "#### Model with numeric features "
   ]
  },
  {
   "cell_type": "code",
   "execution_count": 7,
   "id": "98903722-5eb2-4515-8cad-63ea32b1f98a",
   "metadata": {},
   "outputs": [],
   "source": [
    "numeric_features = ['year','mileage','vol_engine']\n",
    "\n",
    "X = data[numeric_features]\n",
    "y = data.price"
   ]
  },
  {
   "cell_type": "code",
   "execution_count": 8,
   "id": "54d8f17f-48f9-488b-8108-e4a65fd85d22",
   "metadata": {},
   "outputs": [
    {
     "data": {
      "text/html": [
       "<div>\n",
       "<style scoped>\n",
       "    .dataframe tbody tr th:only-of-type {\n",
       "        vertical-align: middle;\n",
       "    }\n",
       "\n",
       "    .dataframe tbody tr th {\n",
       "        vertical-align: top;\n",
       "    }\n",
       "\n",
       "    .dataframe thead th {\n",
       "        text-align: right;\n",
       "    }\n",
       "</style>\n",
       "<table border=\"1\" class=\"dataframe\">\n",
       "  <thead>\n",
       "    <tr style=\"text-align: right;\">\n",
       "      <th></th>\n",
       "      <th>year</th>\n",
       "      <th>mileage</th>\n",
       "      <th>vol_engine</th>\n",
       "    </tr>\n",
       "  </thead>\n",
       "  <tbody>\n",
       "    <tr>\n",
       "      <th>0</th>\n",
       "      <td>2015</td>\n",
       "      <td>139568</td>\n",
       "      <td>1248</td>\n",
       "    </tr>\n",
       "    <tr>\n",
       "      <th>1</th>\n",
       "      <td>2018</td>\n",
       "      <td>31991</td>\n",
       "      <td>1499</td>\n",
       "    </tr>\n",
       "    <tr>\n",
       "      <th>2</th>\n",
       "      <td>2015</td>\n",
       "      <td>278437</td>\n",
       "      <td>1598</td>\n",
       "    </tr>\n",
       "    <tr>\n",
       "      <th>3</th>\n",
       "      <td>2016</td>\n",
       "      <td>47600</td>\n",
       "      <td>1248</td>\n",
       "    </tr>\n",
       "    <tr>\n",
       "      <th>4</th>\n",
       "      <td>2014</td>\n",
       "      <td>103000</td>\n",
       "      <td>1400</td>\n",
       "    </tr>\n",
       "    <tr>\n",
       "      <th>...</th>\n",
       "      <td>...</td>\n",
       "      <td>...</td>\n",
       "      <td>...</td>\n",
       "    </tr>\n",
       "    <tr>\n",
       "      <th>117922</th>\n",
       "      <td>2020</td>\n",
       "      <td>40000</td>\n",
       "      <td>1969</td>\n",
       "    </tr>\n",
       "    <tr>\n",
       "      <th>117923</th>\n",
       "      <td>2017</td>\n",
       "      <td>51000</td>\n",
       "      <td>1969</td>\n",
       "    </tr>\n",
       "    <tr>\n",
       "      <th>117924</th>\n",
       "      <td>2016</td>\n",
       "      <td>83500</td>\n",
       "      <td>1969</td>\n",
       "    </tr>\n",
       "    <tr>\n",
       "      <th>117925</th>\n",
       "      <td>2017</td>\n",
       "      <td>174000</td>\n",
       "      <td>1969</td>\n",
       "    </tr>\n",
       "    <tr>\n",
       "      <th>117926</th>\n",
       "      <td>2016</td>\n",
       "      <td>189020</td>\n",
       "      <td>1969</td>\n",
       "    </tr>\n",
       "  </tbody>\n",
       "</table>\n",
       "<p>116633 rows × 3 columns</p>\n",
       "</div>"
      ],
      "text/plain": [
       "        year  mileage  vol_engine\n",
       "0       2015   139568        1248\n",
       "1       2018    31991        1499\n",
       "2       2015   278437        1598\n",
       "3       2016    47600        1248\n",
       "4       2014   103000        1400\n",
       "...      ...      ...         ...\n",
       "117922  2020    40000        1969\n",
       "117923  2017    51000        1969\n",
       "117924  2016    83500        1969\n",
       "117925  2017   174000        1969\n",
       "117926  2016   189020        1969\n",
       "\n",
       "[116633 rows x 3 columns]"
      ]
     },
     "execution_count": 8,
     "metadata": {},
     "output_type": "execute_result"
    }
   ],
   "source": [
    "X"
   ]
  },
  {
   "cell_type": "code",
   "execution_count": 9,
   "id": "c0f01dcd-f124-44a3-a185-4e18146a6076",
   "metadata": {},
   "outputs": [],
   "source": [
    "X_train, X_test, y_train, y_test = train_test_split(X,y, test_size=0.1, random_state=12)"
   ]
  },
  {
   "cell_type": "code",
   "execution_count": 10,
   "id": "3a63d4f0-5c84-4c8e-b14c-881a5843b43c",
   "metadata": {},
   "outputs": [
    {
     "data": {
      "text/plain": [
       "0.5954569501758545"
      ]
     },
     "execution_count": 10,
     "metadata": {},
     "output_type": "execute_result"
    }
   ],
   "source": [
    "model = LinearRegression()\n",
    "model.fit(X_train,y_train)\n",
    "r2 = r2_score(y_test, model.predict(X_test))\n",
    "r2"
   ]
  },
  {
   "cell_type": "code",
   "execution_count": 11,
   "id": "3d4952a9-4e82-4af1-aa6b-203c11cd8f5a",
   "metadata": {},
   "outputs": [],
   "source": [
    "comparasion_table = comparasion_table.append(pd.DataFrame([['LinearRegression with numeric features',r2]], columns=['Model name', 'R2 score']))"
   ]
  },
  {
   "cell_type": "markdown",
   "id": "3f6bcfcd-69a2-45c9-8487-b17bc24eb171",
   "metadata": {},
   "source": [
    "#### One-Hot encode without model column"
   ]
  },
  {
   "cell_type": "code",
   "execution_count": 12,
   "id": "96b5bfe3-1d23-462a-b977-3e417fc2d755",
   "metadata": {},
   "outputs": [],
   "source": [
    "X = data.drop(['price','model', 'city'], axis=1)\n",
    "y = data.price"
   ]
  },
  {
   "cell_type": "code",
   "execution_count": 13,
   "id": "b6376272-9aea-4767-9d2f-3a95489c3dc0",
   "metadata": {},
   "outputs": [
    {
     "data": {
      "text/html": [
       "<div>\n",
       "<style scoped>\n",
       "    .dataframe tbody tr th:only-of-type {\n",
       "        vertical-align: middle;\n",
       "    }\n",
       "\n",
       "    .dataframe tbody tr th {\n",
       "        vertical-align: top;\n",
       "    }\n",
       "\n",
       "    .dataframe thead th {\n",
       "        text-align: right;\n",
       "    }\n",
       "</style>\n",
       "<table border=\"1\" class=\"dataframe\">\n",
       "  <thead>\n",
       "    <tr style=\"text-align: right;\">\n",
       "      <th></th>\n",
       "      <th>mark</th>\n",
       "      <th>year</th>\n",
       "      <th>mileage</th>\n",
       "      <th>vol_engine</th>\n",
       "      <th>fuel</th>\n",
       "      <th>province</th>\n",
       "    </tr>\n",
       "  </thead>\n",
       "  <tbody>\n",
       "    <tr>\n",
       "      <th>0</th>\n",
       "      <td>opel</td>\n",
       "      <td>2015</td>\n",
       "      <td>139568</td>\n",
       "      <td>1248</td>\n",
       "      <td>Diesel</td>\n",
       "      <td>Mazowieckie</td>\n",
       "    </tr>\n",
       "    <tr>\n",
       "      <th>1</th>\n",
       "      <td>opel</td>\n",
       "      <td>2018</td>\n",
       "      <td>31991</td>\n",
       "      <td>1499</td>\n",
       "      <td>Diesel</td>\n",
       "      <td>Śląskie</td>\n",
       "    </tr>\n",
       "    <tr>\n",
       "      <th>2</th>\n",
       "      <td>opel</td>\n",
       "      <td>2015</td>\n",
       "      <td>278437</td>\n",
       "      <td>1598</td>\n",
       "      <td>Diesel</td>\n",
       "      <td>Opolskie</td>\n",
       "    </tr>\n",
       "    <tr>\n",
       "      <th>3</th>\n",
       "      <td>opel</td>\n",
       "      <td>2016</td>\n",
       "      <td>47600</td>\n",
       "      <td>1248</td>\n",
       "      <td>Diesel</td>\n",
       "      <td>Opolskie</td>\n",
       "    </tr>\n",
       "    <tr>\n",
       "      <th>4</th>\n",
       "      <td>opel</td>\n",
       "      <td>2014</td>\n",
       "      <td>103000</td>\n",
       "      <td>1400</td>\n",
       "      <td>CNG</td>\n",
       "      <td>Śląskie</td>\n",
       "    </tr>\n",
       "    <tr>\n",
       "      <th>...</th>\n",
       "      <td>...</td>\n",
       "      <td>...</td>\n",
       "      <td>...</td>\n",
       "      <td>...</td>\n",
       "      <td>...</td>\n",
       "      <td>...</td>\n",
       "    </tr>\n",
       "    <tr>\n",
       "      <th>117922</th>\n",
       "      <td>volvo</td>\n",
       "      <td>2020</td>\n",
       "      <td>40000</td>\n",
       "      <td>1969</td>\n",
       "      <td>Hybrid</td>\n",
       "      <td>Śląskie</td>\n",
       "    </tr>\n",
       "    <tr>\n",
       "      <th>117923</th>\n",
       "      <td>volvo</td>\n",
       "      <td>2017</td>\n",
       "      <td>51000</td>\n",
       "      <td>1969</td>\n",
       "      <td>Diesel</td>\n",
       "      <td>Łódzkie</td>\n",
       "    </tr>\n",
       "    <tr>\n",
       "      <th>117924</th>\n",
       "      <td>volvo</td>\n",
       "      <td>2016</td>\n",
       "      <td>83500</td>\n",
       "      <td>1969</td>\n",
       "      <td>Gasoline</td>\n",
       "      <td>Pomorskie</td>\n",
       "    </tr>\n",
       "    <tr>\n",
       "      <th>117925</th>\n",
       "      <td>volvo</td>\n",
       "      <td>2017</td>\n",
       "      <td>174000</td>\n",
       "      <td>1969</td>\n",
       "      <td>Diesel</td>\n",
       "      <td>Wielkopolskie</td>\n",
       "    </tr>\n",
       "    <tr>\n",
       "      <th>117926</th>\n",
       "      <td>volvo</td>\n",
       "      <td>2016</td>\n",
       "      <td>189020</td>\n",
       "      <td>1969</td>\n",
       "      <td>Gasoline</td>\n",
       "      <td>Mazowieckie</td>\n",
       "    </tr>\n",
       "  </tbody>\n",
       "</table>\n",
       "<p>116633 rows × 6 columns</p>\n",
       "</div>"
      ],
      "text/plain": [
       "         mark  year  mileage  vol_engine      fuel       province\n",
       "0        opel  2015   139568        1248    Diesel    Mazowieckie\n",
       "1        opel  2018    31991        1499    Diesel        Śląskie\n",
       "2        opel  2015   278437        1598    Diesel       Opolskie\n",
       "3        opel  2016    47600        1248    Diesel       Opolskie\n",
       "4        opel  2014   103000        1400       CNG        Śląskie\n",
       "...       ...   ...      ...         ...       ...            ...\n",
       "117922  volvo  2020    40000        1969    Hybrid        Śląskie\n",
       "117923  volvo  2017    51000        1969    Diesel        Łódzkie\n",
       "117924  volvo  2016    83500        1969  Gasoline      Pomorskie\n",
       "117925  volvo  2017   174000        1969    Diesel  Wielkopolskie\n",
       "117926  volvo  2016   189020        1969  Gasoline    Mazowieckie\n",
       "\n",
       "[116633 rows x 6 columns]"
      ]
     },
     "execution_count": 13,
     "metadata": {},
     "output_type": "execute_result"
    }
   ],
   "source": [
    "X"
   ]
  },
  {
   "cell_type": "code",
   "execution_count": 14,
   "id": "5bf16858-8483-475e-a6ab-143aebf5de03",
   "metadata": {},
   "outputs": [],
   "source": [
    "X_train, X_test, y_train, y_test = train_test_split(X,y, test_size=0.1, random_state=12)"
   ]
  },
  {
   "cell_type": "code",
   "execution_count": 15,
   "id": "42fb1f19-354f-4b5b-842f-3013da051303",
   "metadata": {},
   "outputs": [],
   "source": [
    "X_train_f = pd.get_dummies(X_train)\n",
    "X_test_f = pd.get_dummies(X_test)"
   ]
  },
  {
   "cell_type": "code",
   "execution_count": 16,
   "id": "c2f4e30b-af7d-496e-9e2e-e9194a43b7c0",
   "metadata": {},
   "outputs": [
    {
     "data": {
      "text/plain": [
       "0.6398931514159971"
      ]
     },
     "execution_count": 16,
     "metadata": {},
     "output_type": "execute_result"
    }
   ],
   "source": [
    "model = LinearRegression()\n",
    "model.fit(X_train_f,y_train)\n",
    "r2_score(y_test, model.predict(X_test_f))"
   ]
  },
  {
   "cell_type": "code",
   "execution_count": 17,
   "id": "6897828e-e300-4bd3-bf19-b4d6a89fa16c",
   "metadata": {},
   "outputs": [],
   "source": [
    "comparasion_table = comparasion_table.append(pd.DataFrame([['LinearRegression - one-hot without model',r2_score(y_test, model.predict(X_test_f))]], columns=['Model name', 'R2 score']))"
   ]
  },
  {
   "cell_type": "markdown",
   "id": "543e4be7-28a7-41ad-9860-28ea3d02c2b4",
   "metadata": {
    "tags": []
   },
   "source": [
    "#### One-Hot encode with model column"
   ]
  },
  {
   "cell_type": "code",
   "execution_count": 19,
   "id": "1414ca27-566d-4836-9c75-f846a8b52a09",
   "metadata": {},
   "outputs": [],
   "source": [
    "X = data.drop(['price', 'city'], axis=1)\n",
    "y = data.price"
   ]
  },
  {
   "cell_type": "code",
   "execution_count": 20,
   "id": "97d1dd69-5275-47a2-b6fd-e4db753f1302",
   "metadata": {},
   "outputs": [
    {
     "data": {
      "text/html": [
       "<div>\n",
       "<style scoped>\n",
       "    .dataframe tbody tr th:only-of-type {\n",
       "        vertical-align: middle;\n",
       "    }\n",
       "\n",
       "    .dataframe tbody tr th {\n",
       "        vertical-align: top;\n",
       "    }\n",
       "\n",
       "    .dataframe thead th {\n",
       "        text-align: right;\n",
       "    }\n",
       "</style>\n",
       "<table border=\"1\" class=\"dataframe\">\n",
       "  <thead>\n",
       "    <tr style=\"text-align: right;\">\n",
       "      <th></th>\n",
       "      <th>mark</th>\n",
       "      <th>model</th>\n",
       "      <th>year</th>\n",
       "      <th>mileage</th>\n",
       "      <th>vol_engine</th>\n",
       "      <th>fuel</th>\n",
       "      <th>province</th>\n",
       "    </tr>\n",
       "  </thead>\n",
       "  <tbody>\n",
       "    <tr>\n",
       "      <th>0</th>\n",
       "      <td>opel</td>\n",
       "      <td>combo</td>\n",
       "      <td>2015</td>\n",
       "      <td>139568</td>\n",
       "      <td>1248</td>\n",
       "      <td>Diesel</td>\n",
       "      <td>Mazowieckie</td>\n",
       "    </tr>\n",
       "    <tr>\n",
       "      <th>1</th>\n",
       "      <td>opel</td>\n",
       "      <td>combo</td>\n",
       "      <td>2018</td>\n",
       "      <td>31991</td>\n",
       "      <td>1499</td>\n",
       "      <td>Diesel</td>\n",
       "      <td>Śląskie</td>\n",
       "    </tr>\n",
       "    <tr>\n",
       "      <th>2</th>\n",
       "      <td>opel</td>\n",
       "      <td>combo</td>\n",
       "      <td>2015</td>\n",
       "      <td>278437</td>\n",
       "      <td>1598</td>\n",
       "      <td>Diesel</td>\n",
       "      <td>Opolskie</td>\n",
       "    </tr>\n",
       "    <tr>\n",
       "      <th>3</th>\n",
       "      <td>opel</td>\n",
       "      <td>combo</td>\n",
       "      <td>2016</td>\n",
       "      <td>47600</td>\n",
       "      <td>1248</td>\n",
       "      <td>Diesel</td>\n",
       "      <td>Opolskie</td>\n",
       "    </tr>\n",
       "    <tr>\n",
       "      <th>4</th>\n",
       "      <td>opel</td>\n",
       "      <td>combo</td>\n",
       "      <td>2014</td>\n",
       "      <td>103000</td>\n",
       "      <td>1400</td>\n",
       "      <td>CNG</td>\n",
       "      <td>Śląskie</td>\n",
       "    </tr>\n",
       "    <tr>\n",
       "      <th>...</th>\n",
       "      <td>...</td>\n",
       "      <td>...</td>\n",
       "      <td>...</td>\n",
       "      <td>...</td>\n",
       "      <td>...</td>\n",
       "      <td>...</td>\n",
       "      <td>...</td>\n",
       "    </tr>\n",
       "    <tr>\n",
       "      <th>117922</th>\n",
       "      <td>volvo</td>\n",
       "      <td>xc-90</td>\n",
       "      <td>2020</td>\n",
       "      <td>40000</td>\n",
       "      <td>1969</td>\n",
       "      <td>Hybrid</td>\n",
       "      <td>Śląskie</td>\n",
       "    </tr>\n",
       "    <tr>\n",
       "      <th>117923</th>\n",
       "      <td>volvo</td>\n",
       "      <td>xc-90</td>\n",
       "      <td>2017</td>\n",
       "      <td>51000</td>\n",
       "      <td>1969</td>\n",
       "      <td>Diesel</td>\n",
       "      <td>Łódzkie</td>\n",
       "    </tr>\n",
       "    <tr>\n",
       "      <th>117924</th>\n",
       "      <td>volvo</td>\n",
       "      <td>xc-90</td>\n",
       "      <td>2016</td>\n",
       "      <td>83500</td>\n",
       "      <td>1969</td>\n",
       "      <td>Gasoline</td>\n",
       "      <td>Pomorskie</td>\n",
       "    </tr>\n",
       "    <tr>\n",
       "      <th>117925</th>\n",
       "      <td>volvo</td>\n",
       "      <td>xc-90</td>\n",
       "      <td>2017</td>\n",
       "      <td>174000</td>\n",
       "      <td>1969</td>\n",
       "      <td>Diesel</td>\n",
       "      <td>Wielkopolskie</td>\n",
       "    </tr>\n",
       "    <tr>\n",
       "      <th>117926</th>\n",
       "      <td>volvo</td>\n",
       "      <td>xc-90</td>\n",
       "      <td>2016</td>\n",
       "      <td>189020</td>\n",
       "      <td>1969</td>\n",
       "      <td>Gasoline</td>\n",
       "      <td>Mazowieckie</td>\n",
       "    </tr>\n",
       "  </tbody>\n",
       "</table>\n",
       "<p>116633 rows × 7 columns</p>\n",
       "</div>"
      ],
      "text/plain": [
       "         mark  model  year  mileage  vol_engine      fuel       province\n",
       "0        opel  combo  2015   139568        1248    Diesel    Mazowieckie\n",
       "1        opel  combo  2018    31991        1499    Diesel        Śląskie\n",
       "2        opel  combo  2015   278437        1598    Diesel       Opolskie\n",
       "3        opel  combo  2016    47600        1248    Diesel       Opolskie\n",
       "4        opel  combo  2014   103000        1400       CNG        Śląskie\n",
       "...       ...    ...   ...      ...         ...       ...            ...\n",
       "117922  volvo  xc-90  2020    40000        1969    Hybrid        Śląskie\n",
       "117923  volvo  xc-90  2017    51000        1969    Diesel        Łódzkie\n",
       "117924  volvo  xc-90  2016    83500        1969  Gasoline      Pomorskie\n",
       "117925  volvo  xc-90  2017   174000        1969    Diesel  Wielkopolskie\n",
       "117926  volvo  xc-90  2016   189020        1969  Gasoline    Mazowieckie\n",
       "\n",
       "[116633 rows x 7 columns]"
      ]
     },
     "execution_count": 20,
     "metadata": {},
     "output_type": "execute_result"
    }
   ],
   "source": [
    "X"
   ]
  },
  {
   "cell_type": "code",
   "execution_count": 21,
   "id": "579213a8-e4eb-433e-952f-797aacb3947b",
   "metadata": {},
   "outputs": [],
   "source": [
    "X_train, X_test, y_train, y_test = train_test_split(X,y, test_size=0.1, random_state=12)"
   ]
  },
  {
   "cell_type": "code",
   "execution_count": 22,
   "id": "2d2a197e-af4e-49ad-8221-de486ab23657",
   "metadata": {},
   "outputs": [],
   "source": [
    "X_train_f = pd.get_dummies(X_train)\n",
    "X_test_f = pd.get_dummies(X_test)"
   ]
  },
  {
   "cell_type": "code",
   "execution_count": 23,
   "id": "6950705b-1e84-48b9-b8ef-440e09edb85f",
   "metadata": {},
   "outputs": [
    {
     "data": {
      "text/plain": [
       "(104969, 369)"
      ]
     },
     "execution_count": 23,
     "metadata": {},
     "output_type": "execute_result"
    }
   ],
   "source": [
    "X_train_f.shape"
   ]
  },
  {
   "cell_type": "code",
   "execution_count": 24,
   "id": "80a94d67-9360-42bf-986d-05d5869d7998",
   "metadata": {},
   "outputs": [
    {
     "data": {
      "text/plain": [
       "(11664, 366)"
      ]
     },
     "execution_count": 24,
     "metadata": {},
     "output_type": "execute_result"
    }
   ],
   "source": [
    "X_test_f.shape "
   ]
  },
  {
   "cell_type": "code",
   "execution_count": 25,
   "id": "13391a0d-8a98-4734-b063-84dbb1e1b15a",
   "metadata": {
    "tags": []
   },
   "outputs": [],
   "source": [
    "X_train_f = X_train_f.drop(['model_i3','model_omega', 'model_rs-q3'], axis=1) ## I drop this columns because there was a problem with names of columns after one-hot encoding "
   ]
  },
  {
   "cell_type": "code",
   "execution_count": 26,
   "id": "579e9d0d-edac-4956-ab35-36e7403998ec",
   "metadata": {},
   "outputs": [
    {
     "data": {
      "text/plain": [
       "0.7568894081253743"
      ]
     },
     "execution_count": 26,
     "metadata": {},
     "output_type": "execute_result"
    }
   ],
   "source": [
    "model = LinearRegression()\n",
    "model.fit(X_train_f,y_train)\n",
    "r2 = r2_score(y_test, model.predict(X_test_f))\n",
    "r2"
   ]
  },
  {
   "cell_type": "code",
   "execution_count": 27,
   "id": "d9fef37b-b31c-48be-8230-d74a3e92981c",
   "metadata": {},
   "outputs": [],
   "source": [
    "comparasion_table = comparasion_table.append(pd.DataFrame([['LinearRegression - one-hot with model',r2]], columns=['Model name', 'R2 score']))"
   ]
  },
  {
   "cell_type": "markdown",
   "id": "94cc655a-f2f7-4960-81c3-13dd8d55b467",
   "metadata": {},
   "source": [
    "#### Other regression models"
   ]
  },
  {
   "cell_type": "markdown",
   "id": "6a01a0a5-2c58-41d5-b5ed-b841972a44d6",
   "metadata": {},
   "source": [
    "**StandardScaler**"
   ]
  },
  {
   "cell_type": "code",
   "execution_count": 28,
   "id": "670765e8-b966-479b-b908-a018457c1367",
   "metadata": {},
   "outputs": [],
   "source": [
    "scaler = StandardScaler() \n",
    "scaler.fit(X_train_f)\n",
    "\n",
    "X_train_scal = scaler.transform(X_train_f) \n",
    "X_test_scal = scaler.transform(X_test_f)  "
   ]
  },
  {
   "cell_type": "code",
   "execution_count": 29,
   "id": "a650fe07-2e18-4ea8-a1a0-ee28861a6bc1",
   "metadata": {},
   "outputs": [
    {
     "data": {
      "text/plain": [
       "0.7562172814447952"
      ]
     },
     "execution_count": 29,
     "metadata": {},
     "output_type": "execute_result"
    }
   ],
   "source": [
    "model = LinearRegression()\n",
    "model.fit(X_train_scal,y_train)\n",
    "r2 = r2_score(y_test, model.predict(X_test_scal))\n",
    "r2"
   ]
  },
  {
   "cell_type": "code",
   "execution_count": 30,
   "id": "40f7e5bd-11ea-4627-a846-c592247e0b4b",
   "metadata": {},
   "outputs": [],
   "source": [
    "comparasion_table = comparasion_table.append(pd.DataFrame([['LinearRegression - StandardScaler',r2]], columns=['Model name', 'R2 score']))"
   ]
  },
  {
   "cell_type": "markdown",
   "id": "289637e3-afcf-4cd6-87ea-77f19ab5827f",
   "metadata": {},
   "source": [
    "**RIDGE**"
   ]
  },
  {
   "cell_type": "code",
   "execution_count": 31,
   "id": "c6affe69-dd73-4a19-8dfc-0d8d494a0a47",
   "metadata": {},
   "outputs": [
    {
     "data": {
      "text/plain": [
       "0.7568903181382569"
      ]
     },
     "execution_count": 31,
     "metadata": {},
     "output_type": "execute_result"
    }
   ],
   "source": [
    "model = Ridge()\n",
    "model.fit(X_train_scal, y_train)\n",
    "y_pred = model.predict(X_test_scal)\n",
    "r2 = r2_score(y_test, y_pred) \n",
    "r2"
   ]
  },
  {
   "cell_type": "code",
   "execution_count": 32,
   "id": "ce8af64e-2a85-4f3f-a7e1-ea38f2b68bba",
   "metadata": {},
   "outputs": [],
   "source": [
    "comparasion_table = comparasion_table.append(pd.DataFrame([['LinearRegression - Ridge',r2]], columns=['Model name', 'R2 score']))"
   ]
  },
  {
   "cell_type": "markdown",
   "id": "281e0b72-7eb1-4ab2-b45f-8100f74503ca",
   "metadata": {},
   "source": [
    "**BayesianRidge**"
   ]
  },
  {
   "cell_type": "code",
   "execution_count": 33,
   "id": "c3a7330a-9a35-4117-8f9d-feffe842703a",
   "metadata": {},
   "outputs": [
    {
     "data": {
      "text/plain": [
       "0.7568903181382569"
      ]
     },
     "execution_count": 33,
     "metadata": {},
     "output_type": "execute_result"
    }
   ],
   "source": [
    "model.fit(X_train_scal, y_train)\n",
    "y_pred = model.predict(X_test_scal)\n",
    "r2 = r2_score(y_test, y_pred)\n",
    "r2"
   ]
  },
  {
   "cell_type": "code",
   "execution_count": 34,
   "id": "7c694bc5-d0a8-44b1-a211-3328a30c96ee",
   "metadata": {},
   "outputs": [],
   "source": [
    "comparasion_table = comparasion_table.append(pd.DataFrame([['LinearRegression - BayesianRidge',r2]], columns=['Model name', 'R2 score']))"
   ]
  },
  {
   "cell_type": "markdown",
   "id": "dfe67393-059f-4a99-ad63-71308ee27b3b",
   "metadata": {},
   "source": [
    "**LASSO**"
   ]
  },
  {
   "cell_type": "code",
   "execution_count": 35,
   "id": "4d91d43d-8b77-461c-b9dc-44d72844f786",
   "metadata": {},
   "outputs": [
    {
     "data": {
      "text/plain": [
       "0.7569024475426633"
      ]
     },
     "execution_count": 35,
     "metadata": {},
     "output_type": "execute_result"
    }
   ],
   "source": [
    "model = Lasso(max_iter=1500)\n",
    "model.fit(X_train_scal, y_train)\n",
    "y_pred = model.predict(X_test_scal)\n",
    "r2 = r2_score(y_test, y_pred) \n",
    "r2"
   ]
  },
  {
   "cell_type": "code",
   "execution_count": 36,
   "id": "d0ba9e8a-7945-4aad-a05d-1584a9bd5037",
   "metadata": {},
   "outputs": [],
   "source": [
    "comparasion_table = comparasion_table.append(pd.DataFrame([['LinearRegression - LASSO',r2]], columns=['Model name', 'R2 score']))"
   ]
  },
  {
   "cell_type": "markdown",
   "id": "589f916b-7fef-4f56-8083-bd6f65fb90a8",
   "metadata": {},
   "source": [
    "#### Regression with Pipeline "
   ]
  },
  {
   "cell_type": "markdown",
   "id": "2ec9d165-d7f6-47bd-b971-bdedd157068f",
   "metadata": {},
   "source": [
    "**1.Model column with polynomial variables**"
   ]
  },
  {
   "cell_type": "code",
   "execution_count": 37,
   "id": "2b143dd0-52f7-4fd8-8515-d9b4e727b019",
   "metadata": {},
   "outputs": [],
   "source": [
    "X = data.drop(['price','city'], axis=1)\n",
    "y = data.price"
   ]
  },
  {
   "cell_type": "code",
   "execution_count": 38,
   "id": "24fd162e-8f14-468f-b117-dea28531d4a8",
   "metadata": {},
   "outputs": [],
   "source": [
    "X_train, X_test, y_train, y_test = train_test_split(X,y, test_size=0.1, random_state=12)\n",
    "\n",
    "X_train_f = pd.get_dummies(X_train)\n",
    "X_test_f = pd.get_dummies(X_test)\n",
    "\n",
    "X_train_f = X_train_f.drop(['model_i3','model_omega', 'model_rs-q3'], axis=1)"
   ]
  },
  {
   "cell_type": "code",
   "execution_count": 39,
   "id": "fe174456-dfbf-4b26-9714-1e9b4d9e4d5b",
   "metadata": {
    "tags": []
   },
   "outputs": [
    {
     "name": "stdout",
     "output_type": "stream",
     "text": [
      "Wall time: 1min 24s\n"
     ]
    },
    {
     "data": {
      "text/plain": [
       "GridSearchCV(cv=10,\n",
       "             estimator=Pipeline(steps=[('scaler', StandardScaler()),\n",
       "                                       ('model', Ridge())]),\n",
       "             n_jobs=-1, param_grid={'model__alpha': [0.05, 0.1, 1, 10]},\n",
       "             scoring='r2')"
      ]
     },
     "execution_count": 39,
     "metadata": {},
     "output_type": "execute_result"
    }
   ],
   "source": [
    "%%time\n",
    "\n",
    "model = Pipeline([\n",
    "    (\"scaler\", StandardScaler()),\n",
    "    (\"model\", Ridge())\n",
    "    \n",
    "])\n",
    "param_grid = {'model__alpha':[0.05,0.1,1,10]}  \n",
    "\n",
    "optimizer = GridSearchCV(model, param_grid, scoring='r2', cv=10 ,n_jobs=-1)\n",
    "\n",
    "optimizer.fit(X_train_f, y_train)"
   ]
  },
  {
   "cell_type": "code",
   "execution_count": 40,
   "id": "81b78cb2-29a5-494f-bf27-5461920b5567",
   "metadata": {},
   "outputs": [
    {
     "data": {
      "text/plain": [
       "Pipeline(steps=[('scaler', StandardScaler()), ('model', Ridge(alpha=1))])"
      ]
     },
     "execution_count": 40,
     "metadata": {},
     "output_type": "execute_result"
    }
   ],
   "source": [
    "optimizer.best_estimator_"
   ]
  },
  {
   "cell_type": "code",
   "execution_count": 41,
   "id": "7a52b22c-07e2-4a0d-ab00-564aacc15079",
   "metadata": {},
   "outputs": [
    {
     "data": {
      "text/plain": [
       "0.771273844257726"
      ]
     },
     "execution_count": 41,
     "metadata": {},
     "output_type": "execute_result"
    }
   ],
   "source": [
    "optimizer.best_score_"
   ]
  },
  {
   "cell_type": "code",
   "execution_count": 42,
   "id": "a00fa6be-2c14-49e5-a8cd-75c7a69eed0f",
   "metadata": {},
   "outputs": [
    {
     "data": {
      "text/plain": [
       "{'mean_fit_time': array([7.68926783, 7.27901189, 7.3234792 , 7.36870604]),\n",
       " 'std_fit_time': array([0.32635319, 0.16146578, 0.1093967 , 0.15223579]),\n",
       " 'mean_score_time': array([0.193734  , 0.20620294, 0.18746083, 0.19955871]),\n",
       " 'std_score_time': array([0.03439441, 0.04295088, 0.02208888, 0.05681168]),\n",
       " 'param_model__alpha': masked_array(data=[0.05, 0.1, 1, 10],\n",
       "              mask=[False, False, False, False],\n",
       "        fill_value='?',\n",
       "             dtype=object),\n",
       " 'params': [{'model__alpha': 0.05},\n",
       "  {'model__alpha': 0.1},\n",
       "  {'model__alpha': 1},\n",
       "  {'model__alpha': 10}],\n",
       " 'split0_test_score': array([0.79119221, 0.79119213, 0.7911906 , 0.79116816]),\n",
       " 'split1_test_score': array([0.76999361, 0.76999359, 0.76999314, 0.76998668]),\n",
       " 'split2_test_score': array([0.78997977, 0.78997966, 0.78997783, 0.78995835]),\n",
       " 'split3_test_score': array([0.76428753, 0.76428766, 0.76428989, 0.76429916]),\n",
       " 'split4_test_score': array([0.77479699, 0.77479699, 0.77479688, 0.77479211]),\n",
       " 'split5_test_score': array([0.74049101, 0.74049107, 0.74049198, 0.74049483]),\n",
       " 'split6_test_score': array([0.76633441, 0.76633443, 0.76633466, 0.76632603]),\n",
       " 'split7_test_score': array([0.78106435, 0.78106442, 0.78106573, 0.78107241]),\n",
       " 'split8_test_score': array([0.77906125, 0.77906127, 0.77906158, 0.77905917]),\n",
       " 'split9_test_score': array([0.75553723, 0.75553718, 0.75553615, 0.75552292]),\n",
       " 'mean_test_score': array([0.77127384, 0.77127384, 0.77127384, 0.77126798]),\n",
       " 'std_test_score': array([0.01478388, 0.01478385, 0.01478333, 0.01477877]),\n",
       " 'rank_test_score': array([3, 2, 1, 4])}"
      ]
     },
     "execution_count": 42,
     "metadata": {},
     "output_type": "execute_result"
    }
   ],
   "source": [
    "optimizer.cv_results_"
   ]
  },
  {
   "cell_type": "code",
   "execution_count": 43,
   "id": "d0418b49-7310-4373-b603-410030f1a6c4",
   "metadata": {},
   "outputs": [],
   "source": [
    "comparasion_table = comparasion_table.append(pd.DataFrame([['Pipeline', optimizer.best_score_]], columns=['Model name', 'R2 score']))"
   ]
  },
  {
   "cell_type": "markdown",
   "id": "dea2b328-f359-4dc7-8360-89fbc220752b",
   "metadata": {},
   "source": [
    "**2. Polynomial variables without model column**"
   ]
  },
  {
   "cell_type": "code",
   "execution_count": 44,
   "id": "ad251e3c-4f5a-4874-a844-708d2ba9bf9c",
   "metadata": {},
   "outputs": [],
   "source": [
    "X = data.drop(['price','city'], axis=1)\n",
    "y = data.price"
   ]
  },
  {
   "cell_type": "code",
   "execution_count": 45,
   "id": "bc442751-6e5a-4dfd-b646-44b6c3e003ba",
   "metadata": {},
   "outputs": [],
   "source": [
    "X_train, X_test, y_train, y_test = train_test_split(X,y, test_size=0.1, random_state=12)\n",
    "\n",
    "X_train_f = pd.get_dummies(X_train)\n",
    "X_test_f = pd.get_dummies(X_test)\n",
    "\n",
    "X_train_f = X_train_f.drop(['model_i3','model_omega', 'model_rs-q3'], axis=1)"
   ]
  },
  {
   "cell_type": "code",
   "execution_count": 46,
   "id": "6ba7859b-e41b-4f2f-aac2-42943db437f8",
   "metadata": {},
   "outputs": [
    {
     "name": "stdout",
     "output_type": "stream",
     "text": [
      "Wall time: 1min 43s\n"
     ]
    },
    {
     "data": {
      "text/plain": [
       "GridSearchCV(cv=10,\n",
       "             estimator=Pipeline(steps=[('poly',\n",
       "                                        PolynomialFeatures(include_bias=False)),\n",
       "                                       ('scaler', StandardScaler()),\n",
       "                                       ('model', Ridge())]),\n",
       "             n_jobs=-1,\n",
       "             param_grid={'model__alpha': [0.05, 0.1, 1, 10],\n",
       "                         'poly__degree': [1, 2]},\n",
       "             scoring='r2')"
      ]
     },
     "execution_count": 46,
     "metadata": {},
     "output_type": "execute_result"
    }
   ],
   "source": [
    "%%time\n",
    "\n",
    "model = Pipeline([\n",
    "    ('poly', PolynomialFeatures(include_bias=False)),\n",
    "    (\"scaler\", StandardScaler()),\n",
    "    (\"model\", Ridge())   \n",
    "])\n",
    "\n",
    "param_grid = {'poly__degree':[1,2],\n",
    "              'model__alpha':[0.05,0.1,1,10]} \n",
    "                                        \n",
    "optimizer = GridSearchCV(model, param_grid, scoring='r2', cv=10 ,n_jobs=-1)\n",
    "\n",
    "optimizer.fit(X_train_f, y_train)"
   ]
  },
  {
   "cell_type": "code",
   "execution_count": 47,
   "id": "ebb4d6f6-47ad-4d8c-988f-ed8620786268",
   "metadata": {},
   "outputs": [
    {
     "data": {
      "text/plain": [
       "Pipeline(steps=[('poly', PolynomialFeatures(degree=1, include_bias=False)),\n",
       "                ('scaler', StandardScaler()), ('model', Ridge(alpha=1))])"
      ]
     },
     "execution_count": 47,
     "metadata": {},
     "output_type": "execute_result"
    }
   ],
   "source": [
    "optimizer.best_estimator_"
   ]
  },
  {
   "cell_type": "code",
   "execution_count": 48,
   "id": "f19b9b14-86de-422e-be21-afc978062037",
   "metadata": {},
   "outputs": [
    {
     "data": {
      "text/plain": [
       "0.7712738442577264"
      ]
     },
     "execution_count": 48,
     "metadata": {},
     "output_type": "execute_result"
    }
   ],
   "source": [
    "optimizer.best_score_"
   ]
  },
  {
   "cell_type": "code",
   "execution_count": 49,
   "id": "d3df8587-a859-4000-b2a9-1c5d8c32e264",
   "metadata": {},
   "outputs": [
    {
     "data": {
      "text/plain": [
       "{'model__alpha': 1, 'poly__degree': 1}"
      ]
     },
     "execution_count": 49,
     "metadata": {},
     "output_type": "execute_result"
    }
   ],
   "source": [
    "optimizer.best_params_"
   ]
  },
  {
   "cell_type": "code",
   "execution_count": 51,
   "id": "abca431a-cf41-443a-8274-d83ba3869456",
   "metadata": {},
   "outputs": [],
   "source": [
    "comparasion_table = comparasion_table.append(pd.DataFrame([['Pipeline + Polynomial variables', optimizer.best_score_]], columns=['Model name', 'R2 score']))"
   ]
  },
  {
   "cell_type": "markdown",
   "id": "3ffe3e51-2e0a-454b-a12c-8cf81e37bd05",
   "metadata": {
    "tags": []
   },
   "source": [
    "\n",
    "#### Decision Tree"
   ]
  },
  {
   "cell_type": "code",
   "execution_count": 52,
   "id": "253c2043-9ebb-47ca-a139-04dfe36345d9",
   "metadata": {},
   "outputs": [],
   "source": [
    "X = data.drop(['price','city'], axis=1)\n",
    "y = data.price"
   ]
  },
  {
   "cell_type": "code",
   "execution_count": 53,
   "id": "a7d8ce6b-555c-47a9-b214-26fe8cc70039",
   "metadata": {},
   "outputs": [],
   "source": [
    "X_train, X_test, y_train, y_test = train_test_split(X,y, test_size=0.1, random_state=12)\n",
    "\n",
    "X_train_f = pd.get_dummies(X_train)\n",
    "X_test_f = pd.get_dummies(X_test)\n",
    "\n",
    "X_train_f = X_train_f.drop(['model_i3','model_omega', 'model_rs-q3'], axis=1)"
   ]
  },
  {
   "cell_type": "code",
   "execution_count": 55,
   "id": "4f7ddb57-d87c-49fa-8001-04a6298a0be6",
   "metadata": {},
   "outputs": [
    {
     "data": {
      "text/plain": [
       "0.843089999141841"
      ]
     },
     "execution_count": 55,
     "metadata": {},
     "output_type": "execute_result"
    }
   ],
   "source": [
    "model = DecisionTreeRegressor(min_samples_leaf=30, max_depth=7)\n",
    "model.fit(X_train_f, y_train)\n",
    "r2 = r2_score(y_test, model.predict(X_test_f))\n",
    "r2"
   ]
  },
  {
   "cell_type": "code",
   "execution_count": 56,
   "id": "f9208a24-128c-4909-ab1f-adfde96c63bc",
   "metadata": {},
   "outputs": [],
   "source": [
    "comparasion_table = comparasion_table.append(pd.DataFrame([['Decision Tree', r2]], columns=['Model name', 'R2 score']))"
   ]
  },
  {
   "cell_type": "code",
   "execution_count": 57,
   "id": "120a8769-3a17-40f7-9136-58ad75023a27",
   "metadata": {
    "tags": []
   },
   "outputs": [
    {
     "data": {
      "image/png": "[encoded data removed]",
      "text/plain": [
       "<Figure size 2304x1440 with 1 Axes>"
      ]
     },
     "metadata": {
      "needs_background": "light"
     },
     "output_type": "display_data"
    }
   ],
   "source": [
    "plt.figure(figsize=(32,20))\n",
    "plot_tree(model, feature_names=X_train_f.columns, max_depth=3, fontsize=12, filled=True)\n",
    "plt.show()"
   ]
  },
  {
   "cell_type": "markdown",
   "id": "8a4635af-5ec4-4e58-baf6-5ea0406d2058",
   "metadata": {},
   "source": [
    "#### Decision Tree with Pipeline"
   ]
  },
  {
   "cell_type": "code",
   "execution_count": 58,
   "id": "760ae3f1-5d00-4196-9893-4ddff66c6107",
   "metadata": {},
   "outputs": [
    {
     "name": "stdout",
     "output_type": "stream",
     "text": [
      "Wall time: 16min 46s\n"
     ]
    },
    {
     "data": {
      "text/plain": [
       "GridSearchCV(cv=3,\n",
       "             estimator=Pipeline(steps=[('model', DecisionTreeRegressor())]),\n",
       "             n_jobs=-1,\n",
       "             param_grid={'model__ccp_alpha': [0.1, 0.25, 0.5, 0.75, 1],\n",
       "                         'model__max_depth': [5, 7, 10, 15],\n",
       "                         'model__min_samples_leaf': [30, 50, 100],\n",
       "                         'model__min_samples_split': [1, 2, 3, 4, 5]},\n",
       "             scoring='r2')"
      ]
     },
     "execution_count": 58,
     "metadata": {},
     "output_type": "execute_result"
    }
   ],
   "source": [
    "%%time\n",
    "\n",
    "model = Pipeline([(\"model\", DecisionTreeRegressor())])\n",
    "\n",
    "param_grid = {'model__ccp_alpha':[0.1,0.25,0.5,0.75,1],\n",
    "              'model__max_depth':[5,7,10,15],\n",
    "              'model__min_samples_split':[1,2,3,4,5],\n",
    "              \"model__min_samples_leaf\":[30,50,100]}\n",
    "\n",
    "optimizer = GridSearchCV(model, param_grid, scoring='r2', cv=3 ,n_jobs=-1)\n",
    "\n",
    "optimizer.fit(X_train_f, y_train)"
   ]
  },
  {
   "cell_type": "code",
   "execution_count": 59,
   "id": "504cf405-6a94-4498-b028-7d08cb12268d",
   "metadata": {},
   "outputs": [
    {
     "data": {
      "text/plain": [
       "Pipeline(steps=[('model',\n",
       "                 DecisionTreeRegressor(ccp_alpha=0.5, max_depth=15,\n",
       "                                       min_samples_leaf=30,\n",
       "                                       min_samples_split=3))])"
      ]
     },
     "execution_count": 59,
     "metadata": {},
     "output_type": "execute_result"
    }
   ],
   "source": [
    "optimizer.best_estimator_"
   ]
  },
  {
   "cell_type": "code",
   "execution_count": 60,
   "id": "a708ea5a-8507-4697-8307-42c886084e89",
   "metadata": {},
   "outputs": [
    {
     "data": {
      "text/plain": [
       "{'model__ccp_alpha': 0.5,\n",
       " 'model__max_depth': 15,\n",
       " 'model__min_samples_leaf': 30,\n",
       " 'model__min_samples_split': 3}"
      ]
     },
     "execution_count": 60,
     "metadata": {},
     "output_type": "execute_result"
    }
   ],
   "source": [
    "optimizer.best_params_"
   ]
  },
  {
   "cell_type": "code",
   "execution_count": 61,
   "id": "97949064-be0f-493e-a741-78e339e786e2",
   "metadata": {},
   "outputs": [
    {
     "data": {
      "text/plain": [
       "0.8968641688217902"
      ]
     },
     "execution_count": 61,
     "metadata": {},
     "output_type": "execute_result"
    }
   ],
   "source": [
    "optimizer.best_score_"
   ]
  },
  {
   "cell_type": "code",
   "execution_count": 62,
   "id": "bbf321c7-ed5c-42a8-a081-f1ecd5544402",
   "metadata": {},
   "outputs": [],
   "source": [
    "comparasion_table = comparasion_table.append(pd.DataFrame([['Decision Tree + Pipeline', optimizer.best_score_]], columns=['Model name', 'R2 score']))"
   ]
  },
  {
   "cell_type": "markdown",
   "id": "3f4d4a4c-0a10-49d2-b096-3efb2d0229fc",
   "metadata": {},
   "source": [
    "#### AdaBoostRegressor"
   ]
  },
  {
   "cell_type": "code",
   "execution_count": 63,
   "id": "29ca6937-1e14-40fb-a2c2-ac935061618d",
   "metadata": {},
   "outputs": [],
   "source": [
    "model = AdaBoostRegressor(DecisionTreeRegressor(), n_estimators=100)"
   ]
  },
  {
   "cell_type": "code",
   "execution_count": 64,
   "id": "05333fa5-784d-4a57-be46-fcc98b19fa0f",
   "metadata": {},
   "outputs": [
    {
     "data": {
      "text/plain": [
       "0.8904465431635497"
      ]
     },
     "execution_count": 64,
     "metadata": {},
     "output_type": "execute_result"
    }
   ],
   "source": [
    "model.fit(X_train_f, y_train)\n",
    "y_pred = model.predict(X_test_f)\n",
    "r2 = r2_score(y_test, y_pred)\n",
    "r2"
   ]
  },
  {
   "cell_type": "code",
   "execution_count": 65,
   "id": "7a230932-861e-4fb3-b41e-fbaeb0baff3c",
   "metadata": {},
   "outputs": [],
   "source": [
    "comparasion_table = comparasion_table.append(pd.DataFrame([['Random Forest', r2]], columns=['Model name', 'R2 score']))"
   ]
  },
  {
   "cell_type": "markdown",
   "id": "9c9db458-8562-45b2-80eb-283cd78d20b2",
   "metadata": {},
   "source": [
    "#### XGBRegressor"
   ]
  },
  {
   "cell_type": "code",
   "execution_count": 67,
   "id": "43b91479-05d9-4d8d-9af5-de9e92e5a800",
   "metadata": {},
   "outputs": [],
   "source": [
    "param_dists = {\"n_estimators\": randint(20, 100),\n",
    "               \"learning_rate\": uniform(0.01, 0.3),\n",
    "               \"max_depth\": [5,6,7],\n",
    "               \"min_child_weight\": randint(1, 10),\n",
    "               \"subsample\": [0.7, 0.5, 0.3],\n",
    "               \"colsample_bytree\": [0.7, 0.5, 0.3],\n",
    "               \"gamma\": uniform(0.01, 0.2),\n",
    "               \"reg_lambda\": uniform(0.01, 0.2)}"
   ]
  },
  {
   "cell_type": "code",
   "execution_count": 69,
   "id": "a7d67085-6fa9-4590-bc6e-119782bfdaef",
   "metadata": {},
   "outputs": [
    {
     "name": "stdout",
     "output_type": "stream",
     "text": [
      "Wall time: 46min 57s\n"
     ]
    },
    {
     "data": {
      "text/plain": [
       "RandomizedSearchCV(cv=5,\n",
       "                   estimator=XGBRegressor(base_score=None, booster=None,\n",
       "                                          colsample_bylevel=None,\n",
       "                                          colsample_bynode=None,\n",
       "                                          colsample_bytree=None,\n",
       "                                          enable_categorical=False, gamma=None,\n",
       "                                          gpu_id=None, importance_type=None,\n",
       "                                          interaction_constraints=None,\n",
       "                                          learning_rate=None,\n",
       "                                          max_delta_step=None, max_depth=None,\n",
       "                                          min_child_weight=None, missing=nan,\n",
       "                                          monotone_constraints=...\n",
       "                                        'learning_rate': <scipy.stats._distn_infrastructure.rv_frozen object at 0x0000024D2680C7C0>,\n",
       "                                        'max_depth': [5, 6, 7],\n",
       "                                        'min_child_weight': <scipy.stats._distn_infrastructure.rv_frozen object at 0x0000024D26877B80>,\n",
       "                                        'n_estimators': <scipy.stats._distn_infrastructure.rv_frozen object at 0x0000024D267FE1C0>,\n",
       "                                        'reg_lambda': <scipy.stats._distn_infrastructure.rv_frozen object at 0x0000024D26877BE0>,\n",
       "                                        'subsample': [0.7, 0.5, 0.3]},\n",
       "                   scoring='r2')"
      ]
     },
     "execution_count": 69,
     "metadata": {},
     "output_type": "execute_result"
    }
   ],
   "source": [
    "%%time\n",
    "model = XGBRegressor()\n",
    "optimizer = RandomizedSearchCV(model, param_dists, \n",
    "                               n_iter=20,\n",
    "                               scoring=\"r2\", \n",
    "                               cv=5)\n",
    "optimizer.fit(X_train_f, y_train)"
   ]
  },
  {
   "cell_type": "code",
   "execution_count": 70,
   "id": "48d553bb-bda6-4154-a55c-17d60bc873f0",
   "metadata": {},
   "outputs": [
    {
     "data": {
      "text/plain": [
       "0.9326595692273909"
      ]
     },
     "execution_count": 70,
     "metadata": {},
     "output_type": "execute_result"
    }
   ],
   "source": [
    "optimizer.best_score_"
   ]
  },
  {
   "cell_type": "code",
   "execution_count": 71,
   "id": "db865f56-f387-4dc1-87ba-23d8dd48eb14",
   "metadata": {},
   "outputs": [
    {
     "data": {
      "text/plain": [
       "{'colsample_bytree': 0.7,\n",
       " 'gamma': 0.05338743626625115,\n",
       " 'learning_rate': 0.1755391728495306,\n",
       " 'max_depth': 7,\n",
       " 'min_child_weight': 4,\n",
       " 'n_estimators': 91,\n",
       " 'reg_lambda': 0.19216524723035902,\n",
       " 'subsample': 0.5}"
      ]
     },
     "execution_count": 71,
     "metadata": {},
     "output_type": "execute_result"
    }
   ],
   "source": [
    "optimizer.best_params_"
   ]
  },
  {
   "cell_type": "code",
   "execution_count": 72,
   "id": "05a52c43-8f44-4c44-a35f-5dc83225474a",
   "metadata": {},
   "outputs": [
    {
     "data": {
      "text/plain": [
       "XGBRegressor(base_score=0.5, booster='gbtree', colsample_bylevel=1,\n",
       "             colsample_bynode=1, colsample_bytree=0.7, enable_categorical=False,\n",
       "             gamma=0.05338743626625115, gpu_id=-1, importance_type=None,\n",
       "             interaction_constraints='', learning_rate=0.1755391728495306,\n",
       "             max_delta_step=0, max_depth=7, min_child_weight=4, missing=nan,\n",
       "             monotone_constraints='()', n_estimators=91, n_jobs=4,\n",
       "             num_parallel_tree=1, predictor='auto', random_state=0, reg_alpha=0,\n",
       "             reg_lambda=0.19216524723035902, scale_pos_weight=1, subsample=0.5,\n",
       "             tree_method='exact', validate_parameters=1, verbosity=None)"
      ]
     },
     "execution_count": 72,
     "metadata": {},
     "output_type": "execute_result"
    }
   ],
   "source": [
    "optimizer.best_estimator_"
   ]
  },
  {
   "cell_type": "code",
   "execution_count": 73,
   "id": "b2979698-e94a-473b-b340-096cd27b2404",
   "metadata": {},
   "outputs": [],
   "source": [
    "comparasion_table = comparasion_table.append(pd.DataFrame([['XGBRegressor', optimizer.best_score_]], columns=['Model name', 'R2 score']))"
   ]
  },
  {
   "cell_type": "markdown",
   "id": "619462ce-a6f8-45df-be9b-3b4dfe96fd45",
   "metadata": {},
   "source": [
    "#### Neural Network - Multilayer Perceptron "
   ]
  },
  {
   "cell_type": "code",
   "execution_count": 74,
   "id": "d2224047-1026-4f27-8d53-e36eb8760d27",
   "metadata": {
    "tags": []
   },
   "outputs": [
    {
     "data": {
      "text/plain": [
       "0.8039658384695832"
      ]
     },
     "execution_count": 74,
     "metadata": {},
     "output_type": "execute_result"
    }
   ],
   "source": [
    "model = MLPRegressor((32,32,32,32), 'relu', \n",
    "                     max_iter=100, \n",
    "                     early_stopping=True,\n",
    "                     validation_fraction=0.1, \n",
    "                     n_iter_no_change=5)\n",
    "\n",
    "model.fit(X_train_f, y_train)\n",
    "r2 = r2_score(y_test, model.predict(X_test_f))\n",
    "r2"
   ]
  },
  {
   "cell_type": "code",
   "execution_count": 75,
   "id": "492383ba-dd57-4a0c-8c36-543f3700fee8",
   "metadata": {},
   "outputs": [],
   "source": [
    "comparasion_table = comparasion_table.append(pd.DataFrame([['Multilayer Perceptron', r2]], columns=['Model name', 'R2 score']))"
   ]
  },
  {
   "cell_type": "markdown",
   "id": "d8cbc526-c047-4176-acb3-e7339ebee5c4",
   "metadata": {},
   "source": [
    "#### LGBMRegressor"
   ]
  },
  {
   "cell_type": "code",
   "execution_count": 76,
   "id": "71bb13f2-13c9-45cc-976f-f4e8d39aaa08",
   "metadata": {},
   "outputs": [
    {
     "data": {
      "text/plain": [
       "0.9227882988345447"
      ]
     },
     "execution_count": 76,
     "metadata": {},
     "output_type": "execute_result"
    }
   ],
   "source": [
    "model = ltb.LGBMRegressor()\n",
    "model.fit(X_train_f, y_train)\n",
    "r2 = r2_score(y_test, model.predict(X_test_f))\n",
    "r2"
   ]
  },
  {
   "cell_type": "code",
   "execution_count": 77,
   "id": "53a97539-a33e-4811-9962-92ac788c8b39",
   "metadata": {},
   "outputs": [],
   "source": [
    "comparasion_table = comparasion_table.append(pd.DataFrame([['LGBMRegressor', r2]], columns=['Model name', 'R2 score']))"
   ]
  },
  {
   "cell_type": "markdown",
   "id": "db352a41-da94-4c26-9376-1b152ce42412",
   "metadata": {},
   "source": [
    "#### Summary  "
   ]
  },
  {
   "cell_type": "code",
   "execution_count": 78,
   "id": "84c373c7-24ca-4f2c-a7ae-cfa2b1f89f2e",
   "metadata": {},
   "outputs": [
    {
     "data": {
      "text/html": [
       "<div>\n",
       "<style scoped>\n",
       "    .dataframe tbody tr th:only-of-type {\n",
       "        vertical-align: middle;\n",
       "    }\n",
       "\n",
       "    .dataframe tbody tr th {\n",
       "        vertical-align: top;\n",
       "    }\n",
       "\n",
       "    .dataframe thead th {\n",
       "        text-align: right;\n",
       "    }\n",
       "</style>\n",
       "<table border=\"1\" class=\"dataframe\">\n",
       "  <thead>\n",
       "    <tr style=\"text-align: right;\">\n",
       "      <th></th>\n",
       "      <th>Model name</th>\n",
       "      <th>R2 score</th>\n",
       "    </tr>\n",
       "  </thead>\n",
       "  <tbody>\n",
       "    <tr>\n",
       "      <th>0</th>\n",
       "      <td>LinearRegression with numeric features</td>\n",
       "      <td>0.595457</td>\n",
       "    </tr>\n",
       "    <tr>\n",
       "      <th>0</th>\n",
       "      <td>LinearRegression - one-hot without model</td>\n",
       "      <td>0.639893</td>\n",
       "    </tr>\n",
       "    <tr>\n",
       "      <th>0</th>\n",
       "      <td>LinearRegression - one-hot with model</td>\n",
       "      <td>0.756889</td>\n",
       "    </tr>\n",
       "    <tr>\n",
       "      <th>0</th>\n",
       "      <td>LinearRegression - StandardScaler</td>\n",
       "      <td>0.756217</td>\n",
       "    </tr>\n",
       "    <tr>\n",
       "      <th>0</th>\n",
       "      <td>LinearRegression - Ridge</td>\n",
       "      <td>0.756890</td>\n",
       "    </tr>\n",
       "    <tr>\n",
       "      <th>0</th>\n",
       "      <td>LinearRegression - BayesianRidge</td>\n",
       "      <td>0.756890</td>\n",
       "    </tr>\n",
       "    <tr>\n",
       "      <th>0</th>\n",
       "      <td>LinearRegression - LASSO</td>\n",
       "      <td>0.756902</td>\n",
       "    </tr>\n",
       "    <tr>\n",
       "      <th>0</th>\n",
       "      <td>Pipeline</td>\n",
       "      <td>0.771274</td>\n",
       "    </tr>\n",
       "    <tr>\n",
       "      <th>0</th>\n",
       "      <td>Pipeline + Polynomial variables</td>\n",
       "      <td>0.771274</td>\n",
       "    </tr>\n",
       "    <tr>\n",
       "      <th>0</th>\n",
       "      <td>Decision Tree</td>\n",
       "      <td>0.843090</td>\n",
       "    </tr>\n",
       "    <tr>\n",
       "      <th>0</th>\n",
       "      <td>Decision Tree + Pipeline</td>\n",
       "      <td>0.896864</td>\n",
       "    </tr>\n",
       "    <tr>\n",
       "      <th>0</th>\n",
       "      <td>Random Forest</td>\n",
       "      <td>0.890447</td>\n",
       "    </tr>\n",
       "    <tr>\n",
       "      <th>0</th>\n",
       "      <td>XGBRegressor</td>\n",
       "      <td>0.932660</td>\n",
       "    </tr>\n",
       "    <tr>\n",
       "      <th>0</th>\n",
       "      <td>Multilayer Perceptron</td>\n",
       "      <td>0.803966</td>\n",
       "    </tr>\n",
       "    <tr>\n",
       "      <th>0</th>\n",
       "      <td>LGBMRegressor</td>\n",
       "      <td>0.922788</td>\n",
       "    </tr>\n",
       "  </tbody>\n",
       "</table>\n",
       "</div>"
      ],
      "text/plain": [
       "                                 Model name  R2 score\n",
       "0    LinearRegression with numeric features  0.595457\n",
       "0  LinearRegression - one-hot without model  0.639893\n",
       "0     LinearRegression - one-hot with model  0.756889\n",
       "0         LinearRegression - StandardScaler  0.756217\n",
       "0                  LinearRegression - Ridge  0.756890\n",
       "0          LinearRegression - BayesianRidge  0.756890\n",
       "0                  LinearRegression - LASSO  0.756902\n",
       "0                                  Pipeline  0.771274\n",
       "0           Pipeline + Polynomial variables  0.771274\n",
       "0                             Decision Tree  0.843090\n",
       "0                  Decision Tree + Pipeline  0.896864\n",
       "0                             Random Forest  0.890447\n",
       "0                              XGBRegressor  0.932660\n",
       "0                     Multilayer Perceptron  0.803966\n",
       "0                             LGBMRegressor  0.922788"
      ]
     },
     "execution_count": 78,
     "metadata": {},
     "output_type": "execute_result"
    }
   ],
   "source": [
    "comparasion_table"
   ]
  },
  {
   "cell_type": "code",
   "execution_count": null,
   "id": "666ae67c-4339-4deb-b8a4-8d1331ba8208",
   "metadata": {},
   "outputs": [],
   "source": []
  }
 ],
 "metadata": {
  "kernelspec": {
   "display_name": "Python 3 (ipykernel)",
   "language": "python",
   "name": "python3"
  },
  "language_info": {
   "codemirror_mode": {
    "name": "ipython",
    "version": 3
   },
   "file_extension": ".py",
   "mimetype": "text/x-python",
   "name": "python",
   "nbconvert_exporter": "python",
   "pygments_lexer": "ipython3",
   "version": "3.9.7"
  }
 },
 "nbformat": 4,
 "nbformat_minor": 5
}
